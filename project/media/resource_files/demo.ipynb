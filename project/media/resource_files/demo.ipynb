{
 "cells": [
  {
   "cell_type": "code",
   "execution_count": 1,
   "id": "4c2a02fd-fcbf-40d7-af2f-f1de714b1141",
   "metadata": {},
   "outputs": [
    {
     "data": {
      "text/plain": [
       "2.0"
      ]
     },
     "execution_count": 1,
     "metadata": {},
     "output_type": "execute_result"
    }
   ],
   "source": [
    "import math\n",
    "\n",
    "number = 4\n",
    "math.sqrt(number)"
   ]
  },
  {
   "cell_type": "markdown",
   "id": "6a6a0770-b15c-476a-a2d3-316896ec21d6",
   "metadata": {},
   "source": [
    "# Standard Libraries"
   ]
  },
  {
   "cell_type": "code",
   "execution_count": 2,
   "id": "0d6f674b-43a3-44d0-859d-ab9e6e922498",
   "metadata": {
    "tags": []
   },
   "outputs": [],
   "source": [
    "import math"
   ]
  },
  {
   "cell_type": "code",
   "execution_count": 3,
   "id": "586e69ee-2a40-4503-8fa0-ca4f51bbd44a",
   "metadata": {
    "tags": []
   },
   "outputs": [],
   "source": [
    "import csv"
   ]
  },
  {
   "cell_type": "code",
   "execution_count": 11,
   "id": "5ba05c7e-8558-4a59-9d07-a646ec359c91",
   "metadata": {
    "tags": []
   },
   "outputs": [],
   "source": [
    "with open('jsec_stalls.csv', 'r') as f:\n",
    "    data = f.read()"
   ]
  },
  {
   "cell_type": "code",
   "execution_count": 12,
   "id": "d33b6cf2-7e05-4885-97c9-c47287dd34d6",
   "metadata": {
    "tags": []
   },
   "outputs": [
    {
     "data": {
      "text/plain": [
       "'id,stall_name\\n1,JEFE\\n2,Fat Clemenza\\n3,Stressed Coffee\\n4,\"Some, Stall\"'"
      ]
     },
     "execution_count": 12,
     "metadata": {},
     "output_type": "execute_result"
    }
   ],
   "source": [
    "data"
   ]
  },
  {
   "cell_type": "code",
   "execution_count": 13,
   "id": "1ccc3f30-0d2d-460f-be7c-967f46e39bf2",
   "metadata": {
    "tags": []
   },
   "outputs": [],
   "source": [
    "rows = data.split('\\n')"
   ]
  },
  {
   "cell_type": "code",
   "execution_count": 14,
   "id": "fbca8e70-2bd8-47e7-acf9-6a052c9e7a00",
   "metadata": {
    "tags": []
   },
   "outputs": [],
   "source": [
    "data = [\n",
    "    x.split(',') for x in rows\n",
    "]"
   ]
  },
  {
   "cell_type": "code",
   "execution_count": 15,
   "id": "50bfc7a8-fdc6-4e6e-b12b-2344fff489e3",
   "metadata": {
    "tags": []
   },
   "outputs": [
    {
     "data": {
      "text/plain": [
       "[['id', 'stall_name'],\n",
       " ['1', 'JEFE'],\n",
       " ['2', 'Fat Clemenza'],\n",
       " ['3', 'Stressed Coffee'],\n",
       " ['4', '\"Some', ' Stall\"']]"
      ]
     },
     "execution_count": 15,
     "metadata": {},
     "output_type": "execute_result"
    }
   ],
   "source": [
    "data"
   ]
  },
  {
   "cell_type": "code",
   "execution_count": 20,
   "id": "9cf86b31-6fa3-400f-a19a-f2a0304b20e2",
   "metadata": {
    "tags": []
   },
   "outputs": [],
   "source": [
    "import csv\n",
    "\n",
    "with open('jsec_stalls.csv', newline='') as csvfile:\n",
    "\n",
    "    reader = csv.reader(csvfile, delimiter=',', quotechar='\"')\n",
    "    rows = []\n",
    "    for row in reader:\n",
    "        rows.append(row)"
   ]
  },
  {
   "cell_type": "code",
   "execution_count": 21,
   "id": "6f1fbeba-b793-419c-80da-6252740862a3",
   "metadata": {
    "tags": []
   },
   "outputs": [
    {
     "data": {
      "text/plain": [
       "[['id', 'stall_name'],\n",
       " ['1', 'JEFE'],\n",
       " ['2', 'Fat Clemenza'],\n",
       " ['3', 'Stressed Coffee'],\n",
       " ['4', 'Some, Stall']]"
      ]
     },
     "execution_count": 21,
     "metadata": {},
     "output_type": "execute_result"
    }
   ],
   "source": [
    "rows"
   ]
  },
  {
   "cell_type": "code",
   "execution_count": 22,
   "id": "4c477d20-6f77-47eb-866f-db1fe7f8a1c1",
   "metadata": {
    "tags": []
   },
   "outputs": [],
   "source": [
    "import json"
   ]
  },
  {
   "cell_type": "code",
   "execution_count": 23,
   "id": "ce54270a-d6f0-47be-9602-85606beb9c9a",
   "metadata": {
    "tags": []
   },
   "outputs": [],
   "source": [
    "with open('jsec_stalls.json', 'r') as f:\n",
    "    data = json.load(f)"
   ]
  },
  {
   "cell_type": "code",
   "execution_count": 24,
   "id": "fecf8ea8-9dbc-4da6-a981-93006395f0e8",
   "metadata": {
    "tags": []
   },
   "outputs": [
    {
     "data": {
      "text/plain": [
       "[{'id': 1, 'stall_name': 'JEFE'},\n",
       " {'id': 2, 'stall_name': 'Fat Clemenza'},\n",
       " {'id': 3, 'stall_name': 'Stressed Coffee'}]"
      ]
     },
     "execution_count": 24,
     "metadata": {},
     "output_type": "execute_result"
    }
   ],
   "source": [
    "data"
   ]
  },
  {
   "cell_type": "code",
   "execution_count": 26,
   "id": "5d278765-9a2c-44db-b49e-66efd560ea5b",
   "metadata": {
    "tags": []
   },
   "outputs": [
    {
     "data": {
      "text/plain": [
       "'/home/joe/courseware/tmp/20240624'"
      ]
     },
     "execution_count": 26,
     "metadata": {},
     "output_type": "execute_result"
    }
   ],
   "source": [
    "import os\n",
    "\n",
    "os.getcwd()"
   ]
  },
  {
   "cell_type": "code",
   "execution_count": 27,
   "id": "9893f625-7456-45c3-8aad-1e0001e43d97",
   "metadata": {
    "tags": []
   },
   "outputs": [],
   "source": [
    "os.mkdir('testdir')"
   ]
  },
  {
   "cell_type": "code",
   "execution_count": 28,
   "id": "cf8de148-728f-47be-9ead-e8fbb32f2868",
   "metadata": {
    "tags": []
   },
   "outputs": [
    {
     "data": {
      "text/plain": [
       "'/home/joe/courseware/tmp/20240624/compose.yml'"
      ]
     },
     "execution_count": 28,
     "metadata": {},
     "output_type": "execute_result"
    }
   ],
   "source": [
    "os.path.join(os.getcwd(), 'compose.yml')"
   ]
  },
  {
   "cell_type": "code",
   "execution_count": 29,
   "id": "4f1a7e77-7ce1-4567-8d9c-539fb9091304",
   "metadata": {
    "tags": []
   },
   "outputs": [],
   "source": [
    "import sys"
   ]
  },
  {
   "cell_type": "code",
   "execution_count": 30,
   "id": "6cb8f11f-e9b9-489b-b00b-2aac2ef52ae1",
   "metadata": {
    "tags": []
   },
   "outputs": [
    {
     "data": {
      "text/plain": [
       "['/home/joe/courseware/tmp/20240624',\n",
       " '/usr/local/lib/python310.zip',\n",
       " '/usr/local/lib/python3.10',\n",
       " '/usr/local/lib/python3.10/lib-dynload',\n",
       " '',\n",
       " '/home/joe/development/env/jupyterlab-3.10/lib/python3.10/site-packages']"
      ]
     },
     "execution_count": 30,
     "metadata": {},
     "output_type": "execute_result"
    }
   ],
   "source": [
    "sys.path"
   ]
  },
  {
   "cell_type": "code",
   "execution_count": 31,
   "id": "96681f64-6c36-449e-9f14-4deeb3e6335d",
   "metadata": {
    "tags": []
   },
   "outputs": [],
   "source": [
    "import datetime"
   ]
  },
  {
   "cell_type": "code",
   "execution_count": 32,
   "id": "8256d040-0109-4167-a5bd-a8307d6ecd3b",
   "metadata": {
    "tags": []
   },
   "outputs": [
    {
     "data": {
      "text/plain": [
       "'str'"
      ]
     },
     "execution_count": 32,
     "metadata": {},
     "output_type": "execute_result"
    }
   ],
   "source": [
    "1\n",
    "2.5\n",
    "True\n",
    "\"str\""
   ]
  },
  {
   "cell_type": "code",
   "execution_count": 35,
   "id": "30f6ec60-c90e-4d01-9956-d05fc52cd115",
   "metadata": {
    "tags": []
   },
   "outputs": [
    {
     "data": {
      "text/plain": [
       "2024"
      ]
     },
     "execution_count": 35,
     "metadata": {},
     "output_type": "execute_result"
    }
   ],
   "source": [
    "dir(datetime.datetime.now())\n",
    "datetime.datetime.now().year"
   ]
  },
  {
   "cell_type": "code",
   "execution_count": 36,
   "id": "5abcbd85-52d4-4d21-a130-748f47711905",
   "metadata": {
    "tags": []
   },
   "outputs": [
    {
     "data": {
      "text/plain": [
       "datetime.timedelta(days=54, seconds=49329, microseconds=683464)"
      ]
     },
     "execution_count": 36,
     "metadata": {},
     "output_type": "execute_result"
    }
   ],
   "source": [
    "datetime.datetime.now() - datetime.datetime(year=2024, month=5, day=1)"
   ]
  },
  {
   "cell_type": "code",
   "execution_count": null,
   "id": "cb54e56b-5428-4ac7-86d9-af718ba6a7a4",
   "metadata": {},
   "outputs": [],
   "source": [
    "'2024-05-15'"
   ]
  },
  {
   "cell_type": "code",
   "execution_count": 38,
   "id": "457f0a77-464e-4c51-bb99-8353a08d144e",
   "metadata": {
    "tags": []
   },
   "outputs": [
    {
     "data": {
      "text/plain": [
       "datetime.datetime(2024, 5, 15, 0, 0)"
      ]
     },
     "execution_count": 38,
     "metadata": {},
     "output_type": "execute_result"
    }
   ],
   "source": [
    "datetime.datetime.strptime('2024-05-15', '%Y-%m-%d')"
   ]
  },
  {
   "cell_type": "markdown",
   "id": "b284eab0-efec-48df-b022-ca1187b47374",
   "metadata": {},
   "source": [
    "# Third-party packages"
   ]
  },
  {
   "cell_type": "code",
   "execution_count": 39,
   "id": "2d8dfc66-b72e-4a71-925c-873b749603cd",
   "metadata": {
    "tags": []
   },
   "outputs": [],
   "source": [
    "import numpy as np"
   ]
  },
  {
   "cell_type": "code",
   "execution_count": 43,
   "id": "eee91956-c0e3-47b7-ac3b-c184dfcbaa22",
   "metadata": {
    "tags": []
   },
   "outputs": [
    {
     "name": "stdout",
     "output_type": "stream",
     "text": [
      "3.75 s ± 26.2 ms per loop (mean ± std. dev. of 7 runs, 1 loop each)\n"
     ]
    }
   ],
   "source": [
    "%timeit res = [x * 2 for x in range(100_000_000)]"
   ]
  },
  {
   "cell_type": "code",
   "execution_count": 49,
   "id": "fdf6ed67-e185-4c36-9d02-62265ee1b2ba",
   "metadata": {
    "tags": []
   },
   "outputs": [
    {
     "name": "stdout",
     "output_type": "stream",
     "text": [
      "20.5 ms ± 354 µs per loop (mean ± std. dev. of 7 runs, 10 loops each)\n"
     ]
    }
   ],
   "source": [
    "%timeit np.arange(10_000_000) * 2"
   ]
  },
  {
   "cell_type": "code",
   "execution_count": 50,
   "id": "7bd3dc2b-62bf-4954-a747-4e89fbf281b5",
   "metadata": {
    "tags": []
   },
   "outputs": [],
   "source": [
    "import pandas as pd"
   ]
  },
  {
   "cell_type": "code",
   "execution_count": 51,
   "id": "fb01c3ad-05ce-436f-b0aa-7b09ee35f89b",
   "metadata": {
    "tags": []
   },
   "outputs": [],
   "source": [
    "dataframe = pd.read_csv('jsec_stalls.csv')"
   ]
  },
  {
   "cell_type": "code",
   "execution_count": 52,
   "id": "9d1988f6-f19c-40c0-b8ba-39755454adbe",
   "metadata": {
    "tags": []
   },
   "outputs": [
    {
     "data": {
      "text/html": [
       "<div>\n",
       "<style scoped>\n",
       "    .dataframe tbody tr th:only-of-type {\n",
       "        vertical-align: middle;\n",
       "    }\n",
       "\n",
       "    .dataframe tbody tr th {\n",
       "        vertical-align: top;\n",
       "    }\n",
       "\n",
       "    .dataframe thead th {\n",
       "        text-align: right;\n",
       "    }\n",
       "</style>\n",
       "<table border=\"1\" class=\"dataframe\">\n",
       "  <thead>\n",
       "    <tr style=\"text-align: right;\">\n",
       "      <th></th>\n",
       "      <th>id</th>\n",
       "      <th>stall_name</th>\n",
       "    </tr>\n",
       "  </thead>\n",
       "  <tbody>\n",
       "    <tr>\n",
       "      <th>0</th>\n",
       "      <td>1</td>\n",
       "      <td>JEFE</td>\n",
       "    </tr>\n",
       "    <tr>\n",
       "      <th>1</th>\n",
       "      <td>2</td>\n",
       "      <td>Fat Clemenza</td>\n",
       "    </tr>\n",
       "    <tr>\n",
       "      <th>2</th>\n",
       "      <td>3</td>\n",
       "      <td>Stressed Coffee</td>\n",
       "    </tr>\n",
       "    <tr>\n",
       "      <th>3</th>\n",
       "      <td>4</td>\n",
       "      <td>Some, Stall</td>\n",
       "    </tr>\n",
       "  </tbody>\n",
       "</table>\n",
       "</div>"
      ],
      "text/plain": [
       "   id       stall_name\n",
       "0   1             JEFE\n",
       "1   2     Fat Clemenza\n",
       "2   3  Stressed Coffee\n",
       "3   4      Some, Stall"
      ]
     },
     "execution_count": 52,
     "metadata": {},
     "output_type": "execute_result"
    }
   ],
   "source": [
    "dataframe"
   ]
  },
  {
   "cell_type": "code",
   "execution_count": 53,
   "id": "5b4f7454-6ba8-4e02-b12f-a580672bddc5",
   "metadata": {
    "tags": []
   },
   "outputs": [
    {
     "data": {
      "text/html": [
       "<div>\n",
       "<style scoped>\n",
       "    .dataframe tbody tr th:only-of-type {\n",
       "        vertical-align: middle;\n",
       "    }\n",
       "\n",
       "    .dataframe tbody tr th {\n",
       "        vertical-align: top;\n",
       "    }\n",
       "\n",
       "    .dataframe thead th {\n",
       "        text-align: right;\n",
       "    }\n",
       "</style>\n",
       "<table border=\"1\" class=\"dataframe\">\n",
       "  <thead>\n",
       "    <tr style=\"text-align: right;\">\n",
       "      <th></th>\n",
       "      <th>id</th>\n",
       "      <th>stall_name</th>\n",
       "    </tr>\n",
       "  </thead>\n",
       "  <tbody>\n",
       "    <tr>\n",
       "      <th>0</th>\n",
       "      <td>1</td>\n",
       "      <td>JEFE</td>\n",
       "    </tr>\n",
       "    <tr>\n",
       "      <th>1</th>\n",
       "      <td>2</td>\n",
       "      <td>Fat Clemenza</td>\n",
       "    </tr>\n",
       "    <tr>\n",
       "      <th>2</th>\n",
       "      <td>3</td>\n",
       "      <td>Stressed Coffee</td>\n",
       "    </tr>\n",
       "  </tbody>\n",
       "</table>\n",
       "</div>"
      ],
      "text/plain": [
       "   id       stall_name\n",
       "0   1             JEFE\n",
       "1   2     Fat Clemenza\n",
       "2   3  Stressed Coffee"
      ]
     },
     "execution_count": 53,
     "metadata": {},
     "output_type": "execute_result"
    }
   ],
   "source": [
    "df = pd.read_json('jsec_stalls.json')\n",
    "\n",
    "df"
   ]
  },
  {
   "cell_type": "code",
   "execution_count": 56,
   "id": "a521d316-bb21-461d-b1b9-cb8606800e59",
   "metadata": {
    "tags": []
   },
   "outputs": [
    {
     "data": {
      "text/plain": [
       "0               JEFE\n",
       "1       Fat Clemenza\n",
       "2    Stressed Coffee\n",
       "3        Some, Stall\n",
       "Name: stall_name, dtype: object"
      ]
     },
     "execution_count": 56,
     "metadata": {},
     "output_type": "execute_result"
    }
   ],
   "source": [
    "dataframe.loc[:, \"stall_name\"]"
   ]
  },
  {
   "cell_type": "code",
   "execution_count": 57,
   "id": "77808a95-d741-4f5d-82d8-8a9445e2ef8a",
   "metadata": {
    "tags": []
   },
   "outputs": [
    {
     "data": {
      "text/plain": [
       "id               1\n",
       "stall_name    JEFE\n",
       "Name: 0, dtype: object"
      ]
     },
     "execution_count": 57,
     "metadata": {},
     "output_type": "execute_result"
    }
   ],
   "source": [
    "dataframe.loc[0, :]"
   ]
  },
  {
   "cell_type": "code",
   "execution_count": 58,
   "id": "c957585b-4139-4157-8102-727d35f06e5a",
   "metadata": {
    "tags": []
   },
   "outputs": [
    {
     "data": {
      "text/html": [
       "<div>\n",
       "<style scoped>\n",
       "    .dataframe tbody tr th:only-of-type {\n",
       "        vertical-align: middle;\n",
       "    }\n",
       "\n",
       "    .dataframe tbody tr th {\n",
       "        vertical-align: top;\n",
       "    }\n",
       "\n",
       "    .dataframe thead th {\n",
       "        text-align: right;\n",
       "    }\n",
       "</style>\n",
       "<table border=\"1\" class=\"dataframe\">\n",
       "  <thead>\n",
       "    <tr style=\"text-align: right;\">\n",
       "      <th></th>\n",
       "      <th>id</th>\n",
       "      <th>stall_name</th>\n",
       "    </tr>\n",
       "  </thead>\n",
       "  <tbody>\n",
       "    <tr>\n",
       "      <th>0</th>\n",
       "      <td>1</td>\n",
       "      <td>JEFE</td>\n",
       "    </tr>\n",
       "    <tr>\n",
       "      <th>2</th>\n",
       "      <td>3</td>\n",
       "      <td>Stressed Coffee</td>\n",
       "    </tr>\n",
       "  </tbody>\n",
       "</table>\n",
       "</div>"
      ],
      "text/plain": [
       "   id       stall_name\n",
       "0   1             JEFE\n",
       "2   3  Stressed Coffee"
      ]
     },
     "execution_count": 58,
     "metadata": {},
     "output_type": "execute_result"
    }
   ],
   "source": [
    "dataframe.loc[[0, 2], [\"id\", \"stall_name\"]]"
   ]
  },
  {
   "cell_type": "code",
   "execution_count": 59,
   "id": "1a5a04f2-0655-4cbf-9156-03eb069edb82",
   "metadata": {
    "tags": []
   },
   "outputs": [
    {
     "data": {
      "text/plain": [
       "0    2\n",
       "1    4\n",
       "2    6\n",
       "Name: id, dtype: int64"
      ]
     },
     "execution_count": 59,
     "metadata": {},
     "output_type": "execute_result"
    }
   ],
   "source": [
    "df.loc[:, \"id\"] * 2"
   ]
  },
  {
   "cell_type": "code",
   "execution_count": 60,
   "id": "6ffec6ce-3b19-43d2-bf89-806a67121ffa",
   "metadata": {
    "tags": []
   },
   "outputs": [
    {
     "data": {
      "text/plain": [
       "0               JEFE\n",
       "1       FAT CLEMENZA\n",
       "2    STRESSED COFFEE\n",
       "Name: stall_name, dtype: object"
      ]
     },
     "execution_count": 60,
     "metadata": {},
     "output_type": "execute_result"
    }
   ],
   "source": [
    "df.loc[:, \"stall_name\"].str.upper()"
   ]
  },
  {
   "cell_type": "code",
   "execution_count": null,
   "id": "557c64a8-39a9-468d-bb42-61d04681d819",
   "metadata": {},
   "outputs": [],
   "source": [
    "SQL\n",
    "Structured Query Language"
   ]
  },
  {
   "cell_type": "code",
   "execution_count": 61,
   "id": "dba78069-482f-4919-b8eb-d224fe79657f",
   "metadata": {
    "tags": []
   },
   "outputs": [],
   "source": [
    "import psycopg"
   ]
  },
  {
   "cell_type": "code",
   "execution_count": 64,
   "id": "439f1376-b78e-4fdc-bb8f-1e66f32678c1",
   "metadata": {
    "tags": []
   },
   "outputs": [],
   "source": [
    "import psycopg\n",
    "\n",
    "# Connect to your postgres DB\n",
    "conn = psycopg.connect(\"dbname=postgres user=postgres host=localhost password=some-pg-password\")\n",
    "\n",
    "# Open a cursor to perform database operations\n",
    "cur = conn.cursor()\n",
    "\n",
    "# Execute a query\n",
    "cur.execute(\"SELECT * FROM jsec\")\n",
    "\n",
    "# Retrieve query results\n",
    "records = cur.fetchall()"
   ]
  },
  {
   "cell_type": "code",
   "execution_count": 70,
   "id": "dfc8e01f-1d72-4b04-b07e-851ec993ba3e",
   "metadata": {
    "tags": []
   },
   "outputs": [
    {
     "data": {
      "text/plain": [
       "[(1, 'JEFE'), (2, 'FAT CLEMENZA')]"
      ]
     },
     "execution_count": 70,
     "metadata": {},
     "output_type": "execute_result"
    }
   ],
   "source": [
    "records"
   ]
  },
  {
   "cell_type": "code",
   "execution_count": null,
   "id": "1f602125-d41d-4a99-9989-ef77bb8b9972",
   "metadata": {},
   "outputs": [],
   "source": [
    "ORMs\n",
    "Object-Relational Mappers"
   ]
  },
  {
   "cell_type": "code",
   "execution_count": 71,
   "id": "24177238-c573-4d03-8d1e-a163eca9f76d",
   "metadata": {
    "tags": []
   },
   "outputs": [],
   "source": [
    "import sqlalchemy"
   ]
  },
  {
   "cell_type": "code",
   "execution_count": null,
   "id": "87799bae-0897-4122-aeef-744852b6502d",
   "metadata": {},
   "outputs": [],
   "source": [
    "API = Application Programming Interface\n",
    "USUALLY this means a web server running HTTP that returns JSON\n",
    "\n",
    "If you want to make a small-ish website, use Flask\n",
    "If you want to make a JSON-only web service, use FastAPI\n",
    "If you want to make a large website (with users and lots of features), use Django"
   ]
  },
  {
   "cell_type": "code",
   "execution_count": 72,
   "id": "a2fadc48-e393-449d-8a25-5ad8c37e9687",
   "metadata": {
    "tags": []
   },
   "outputs": [],
   "source": [
    "import requests"
   ]
  },
  {
   "cell_type": "code",
   "execution_count": null,
   "id": "86de4676-04dd-44e3-8947-e3c061f8a60a",
   "metadata": {},
   "outputs": [],
   "source": [
    "HTTP Request\n",
    "\"HyperText Transfer Protocol Request\"\n",
    "\n"
   ]
  },
  {
   "cell_type": "code",
   "execution_count": 77,
   "id": "0bfda6d9-f3a8-4626-bc29-142730dba2a9",
   "metadata": {
    "tags": []
   },
   "outputs": [],
   "source": [
    "from bs4 import BeautifulSoup\n",
    "\n",
    "res = requests.get(\n",
    "    \"https://www.ateneo.edu/jgsom/qmit/faculty-staff\",\n",
    "    headers={'User-Agent': 'Mozilla/5.0 (X11; Linux i686; rv:10.0) Gecko/20100101 Firefox/10.0'}\n",
    ")\n",
    "\n",
    "soup = BeautifulSoup(res.text)"
   ]
  },
  {
   "cell_type": "code",
   "execution_count": 81,
   "id": "3c973127-f02f-4aa6-b0ec-de28ef46edb1",
   "metadata": {
    "tags": []
   },
   "outputs": [
    {
     "name": "stdout",
     "output_type": "stream",
     "text": [
      "['Joselito C. Olpoc', 'Hannah Paula S. Atun', 'Romeo Humberto H. Batino', 'Eduardo Ezekiel S. Denzon', 'Adriel Jeremy B. Gaw', 'Joaquin Emmanuel J. Gonzales', 'Joseph Benjamin R. Ilagan', 'Aran V. Samson', 'Michael C. Tan', 'Matthew Laurence A. Uy', 'Alvin Patrick M Valentin', 'Kerish S. Villegas', 'Alyson\\xa0L.\\xa0Yap']\n",
      "['Victor E. Agbayani', 'Marianne Kayle H. Amurao', 'Chester Duane E. Ani', 'Rafael Alfonso\\xa0H.\\xa0Aquino', 'Joel Patrick D. Caballa', 'Magnolia Ann N. Chua', 'Gian Paulo G. dela Rama', 'Wilson Q. Gan', 'Nirel Marie M. Ibarra', 'Jose Ramon\\xa0S.\\xa0Ilagan', 'Joiada Q. Mangalindan', 'Andres Jayme Montiel', 'Raul P. Rodriguez', 'Rogelio\\xa0Sy Siong Kiao', 'Eldridge Myles\\xa0L.\\xa0Tan', 'Rhyan L. Uy']\n"
     ]
    },
    {
     "data": {
      "text/plain": [
       "[<tr>\n",
       " <td style=\"width: 300px;\">\n",
       " <p>                                                                                </p>\n",
       " <p>                            </p>\n",
       " <img alt=\"QMIT_Agbayani\" class=\"align-center\" data-entity-type=\"file\" data-entity-uuid=\"c3f06187-4668-41f7-84df-62192cd57a45\" height=\"187\" loading=\"lazy\" src=\"/sites/default/files/inline-images/Screen%20Shot%202023-06-13%20at%2010.25.04%20PM%20-%20Victor%20E.%20Agbayani_1.png\" width=\"150\"/>\n",
       " <p>                                                                                                                                     </p>\n",
       " </td>\n",
       " <td style=\"width: 509px;\">\n",
       " <h5>Victor E. Agbayani</h5>\n",
       " <p> </p>\n",
       " <p><strong>Education:</strong><br/>\n",
       " \t\t\tMBA, University of the Philippines</p>\n",
       " <p><strong>Teaching areas:</strong><br/>\n",
       " \t\t\tBusiness Statistics, Operations Management, Governance and the Bureaucracy, Local Development</p>\n",
       " </td>\n",
       " </tr>,\n",
       " <tr>\n",
       " <td style=\"width: 300px;\">\n",
       " <p> </p>\n",
       " </td>\n",
       " <td style=\"width: 509px;\">\n",
       " <h5>Marianne Kayle H. Amurao</h5>\n",
       " <h6> </h6>\n",
       " <p><strong>Teaching areas:</strong><br/>\n",
       " \t\t\tDesign thinking, service management</p>\n",
       " <p><strong>Company Affiliation:</strong><br/>\n",
       " \t\t\tChief of Staff to the CEO &amp; Data Strategy Consultant. Thinking Machines Data Science Inc.</p>\n",
       " </td>\n",
       " </tr>,\n",
       " <tr>\n",
       " <td style=\"width: 300px;\"><img alt=\"QMIT_Ani\" class=\"align-center\" data-entity-type=\"file\" data-entity-uuid=\"54cc5016-48ce-4036-a4ad-9422dbdbdfb1\" height=\"204\" loading=\"lazy\" src=\"/sites/default/files/inline-images/_MG_4671%20SC%20-%20Chester%20Duane%20E.%20Ani_1.jpg\" width=\"150\"/>\n",
       " <p> </p>\n",
       " </td>\n",
       " <td style=\"width: 509px;\">\n",
       " <h5>Chester Duane E. Ani</h5>\n",
       " <h6> </h6>\n",
       " <p><strong>Teaching areas:</strong><br/>\n",
       " \t\t\tFinancial Analytics, Business Analytics, Investments</p>\n",
       " <p><strong>Company Affiliation:</strong><br/>\n",
       " \t\t\tTrader, UnionBank of the Philippines</p>\n",
       " </td>\n",
       " </tr>,\n",
       " <tr>\n",
       " <td style=\"width: 300px;\"><img alt=\"QMIT_Aquino\" class=\"align-center\" data-entity-type=\"file\" data-entity-uuid=\"420cb350-faca-44f8-99f5-d889cf27ca5a\" height=\"225\" loading=\"lazy\" src=\"/sites/default/files/inline-images/Aquino_JGSOM_QMIT%20-%20Rafael%20Alfonso%20H.%20Aquino_1.jpg\" width=\"150\"/>\n",
       " <p> </p>\n",
       " </td>\n",
       " <td style=\"width: 509px;\">\n",
       " <h5>Rafael Alfonso H. Aquino</h5>\n",
       " <h6> </h6>\n",
       " <p><strong>Research interests:</strong><br/>\n",
       " \t\t\tDigital Transformation, Business Process Management, Information Technology</p>\n",
       " <p><strong>Teaching areas:</strong><br/>\n",
       " \t\t\tInformation Technology, Creative Thinking, Innovation Management, Business Process Management</p>\n",
       " </td>\n",
       " </tr>,\n",
       " <tr>\n",
       " <td style=\"width: 300px;\"> </td>\n",
       " <td style=\"width: 509px;\">\n",
       " <h5>Joel Patrick D. Caballa</h5>\n",
       " <h6> </h6>\n",
       " <p><strong>Education:</strong><br/>\n",
       " \t\t\tMBA, UP Virata School of Business</p>\n",
       " <p><strong>Research interests:</strong><br/>\n",
       " \t\t\tQuantitative Methods, Data Science, Operations Research</p>\n",
       " <p><strong>Teaching areas:</strong><br/>\n",
       " \t\t\tOperations Management, Data Analytics, Statistics, Quantitative Methods</p>\n",
       " <p><strong>Company Affiliation:</strong><br/>\n",
       " \t\t\tBusiness Development Manager, Alternative Learning Resource School - Philippines (ALRES-PHILS), Inc.</p>\n",
       " </td>\n",
       " </tr>,\n",
       " <tr>\n",
       " <td style=\"width: 300px;\"><img alt=\"QMIT_Chua\" class=\"align-center\" data-entity-type=\"file\" data-entity-uuid=\"61100dc0-5eaf-4830-affc-f8d4f06f71d1\" height=\"117\" loading=\"lazy\" src=\"/sites/default/files/inline-images/ID%20PHOTO_CHUA%20MAGNOLIA%20ANN%20%282%29%20-%20Magnolia%20Ann%20N.%20Chua_1_0.jpg\" width=\"150\"/>\n",
       " <p> </p>\n",
       " </td>\n",
       " <td style=\"width: 509px;\">\n",
       " <h5>Magnolia Ann N. Chua</h5>\n",
       " <h6> </h6>\n",
       " <p><strong>Education:</strong><br/>\n",
       " \t\t\tMBA, UP Diliman</p>\n",
       " <p><strong>Teaching areas:</strong><br/>\n",
       " \t\t\tProject Management</p>\n",
       " <p><strong>Company Affiliation:</strong><br/>\n",
       " \t\t\tProgram Manager, Smart Communications Inc.</p>\n",
       " </td>\n",
       " </tr>,\n",
       " <tr>\n",
       " <td style=\"width: 300px;\"><img alt=\"QMIT_Dela Rama\" class=\"align-center\" data-entity-type=\"file\" data-entity-uuid=\"bcdb85c0-0eca-4bcc-b3dd-38ae6380cdf1\" height=\"163\" loading=\"lazy\" src=\"/sites/default/files/inline-images/gian_pic_no_bg%20-%20Gian%20Paulo%20G.%20Dela%20Rama_1.png\" width=\"150\"/>\n",
       " <p> </p>\n",
       " </td>\n",
       " <td style=\"width: 509px;\">\n",
       " <h5>Gian Paulo G. dela Rama</h5>\n",
       " <h6> </h6>\n",
       " <p><strong>Teaching areas:</strong><br/>\n",
       " \t\t\tStartups</p>\n",
       " <p><strong>Company Affiliation:</strong><br/>\n",
       " \t\t\tChief Product Officer, Sprout Solutions</p>\n",
       " </td>\n",
       " </tr>,\n",
       " <tr>\n",
       " <td style=\"width: 300px;\"><img alt=\"QMIT_Gan\" class=\"align-center\" data-entity-type=\"file\" data-entity-uuid=\"2534b7ad-3b8f-45ab-9147-45bb267b6221\" height=\"154\" loading=\"lazy\" src=\"/sites/default/files/inline-images/Wilson%20Gan%20-%20Wilson%20Q.%20Gan_1.jpg\" width=\"150\"/>\n",
       " <p> </p>\n",
       " </td>\n",
       " <td style=\"width: 509px;\">\n",
       " <h5>Wilson Q. Gan</h5>\n",
       " <h6> </h6>\n",
       " <p><strong>Education:</strong><br/>\n",
       " \t\t\tMBA, Wharton School - University of Pennsylvania</p>\n",
       " <p><strong>Research interests:</strong><br/>\n",
       " \t\t\tDecision Making, Data Science</p>\n",
       " <p><strong>Teaching areas:</strong><br/>\n",
       " \t\t\tDecision Analysis, Statistics, Operations Management, Marketing</p>\n",
       " <p><strong>Company Affiliation:</strong><br/>\n",
       " \t\t\tDirector for Business Process Improvement, Asian Coatings Inc.</p>\n",
       " </td>\n",
       " </tr>,\n",
       " <tr>\n",
       " <td style=\"width: 300px;\"><img alt=\"QMIT_Ibarra\" class=\"align-center\" data-entity-type=\"file\" data-entity-uuid=\"0d5d7fc1-1841-4e9b-8779-066b5b642f25\" height=\"225\" loading=\"lazy\" src=\"/sites/default/files/inline-images/_0024%207%20-%20Nirel%20Marie%20M.%20Ibarra.JPG\" width=\"150\"/>\n",
       " <p> </p>\n",
       " </td>\n",
       " <td style=\"width: 509px;\">\n",
       " <h5>Nirel Marie M. Ibarra</h5>\n",
       " <h6> </h6>\n",
       " <p><strong>Teaching areas:</strong><br/>\n",
       " \t\t\tProgramming (Python/JavaScript)</p>\n",
       " </td>\n",
       " </tr>,\n",
       " <tr>\n",
       " <td style=\"width: 300px;\"> </td>\n",
       " <td style=\"width: 509px;\">\n",
       " <h5>Jose Ramon S. Ilagan</h5>\n",
       " <h6> </h6>\n",
       " <p><strong>Research interests:</strong><br/>\n",
       " \t\t\tEntity Resolution, Data Engineering</p>\n",
       " <p><strong>Teaching areas:</strong><br/>\n",
       " \t\t\tPython, Solutions Architecture, Software Engineering</p>\n",
       " </td>\n",
       " </tr>,\n",
       " <tr>\n",
       " <td style=\"width: 300px;\"><img alt=\"QMIT_Mangalindan\" class=\"align-center\" data-entity-type=\"file\" data-entity-uuid=\"75531d07-113f-4fad-998c-fb56663f1b8a\" height=\"150\" loading=\"lazy\" src=\"/sites/default/files/inline-images/Mangalindan%20-%20Joiada%20Q.%20Mangalindan_1.jpg\" width=\"150\"/>\n",
       " <p> </p>\n",
       " </td>\n",
       " <td style=\"width: 509px;\">\n",
       " <h5>Joiada Q. Mangalindan</h5>\n",
       " <h6> </h6>\n",
       " <p><strong>Research interests:</strong><br/>\n",
       " \t\t\tAI, AR, VR</p>\n",
       " <p><strong>Teaching areas:</strong><br/>\n",
       " \t\t\tProgramming</p>\n",
       " <p><strong>Company Affiliation:</strong><br/>\n",
       " \t\t\tTraining Manager, PMC Business Systems Inc (Power Mac Center Inc)</p>\n",
       " </td>\n",
       " </tr>,\n",
       " <tr>\n",
       " <td style=\"width: 300px;\"><img alt=\"QMIT_Montiel\" class=\"align-center\" data-entity-type=\"file\" data-entity-uuid=\"f43170a0-0761-4d37-ae81-a1aa6c4ea242\" height=\"200\" loading=\"lazy\" src=\"/sites/default/files/inline-images/Packworks-535-edit%20%281%29%20-%20Andres%20J.%20Montiel_1.jpg\" width=\"150\"/>\n",
       " <p> </p>\n",
       " </td>\n",
       " <td style=\"width: 509px;\">\n",
       " <h5>Andres Jayme Montiel</h5>\n",
       " <h6> </h6>\n",
       " <p><strong>Education:</strong><br/>\n",
       " \t\t\tMS Information Management, Ateneo Graduate School of Business</p>\n",
       " <p><strong>Research interests:</strong><br/>\n",
       " \t\t\tMachine Learning in Retail, Offline to Online</p>\n",
       " <p><strong>Teaching areas:</strong><br/>\n",
       " \t\t\tStartups</p>\n",
       " <p><strong>Company Affiliation:</strong><br/>\n",
       " \t\t\tChief Data Officer, Pacworks</p>\n",
       " </td>\n",
       " </tr>,\n",
       " <tr>\n",
       " <td style=\"width: 300px;\"><img alt=\"QMIT_Rodriguez\" class=\"align-center\" data-entity-type=\"file\" data-entity-uuid=\"8b534411-433c-4554-89bd-495a4c7648c9\" height=\"191\" loading=\"lazy\" src=\"/sites/default/files/inline-images/RPR%20Photo%20-%202017%20-%20Raul%20P.%20Rodriguez_1.jpg\" width=\"150\"/>\n",
       " <p> </p>\n",
       " </td>\n",
       " <td style=\"width: 509px;\">\n",
       " <h5>Raul P. Rodriguez</h5>\n",
       " <h6> </h6>\n",
       " <p><strong>Education:</strong><br/>\n",
       " \t\t\tPhD Leadership Studies, Ateneo de Manila University</p>\n",
       " <p><strong>Research interests:</strong><br/>\n",
       " \t\t\tLeadership</p>\n",
       " <p><strong>Teaching areas:</strong><br/>\n",
       " \t\t\tLeadership, OD, Project Management, Quantitative Methods, IT Management</p>\n",
       " <p><strong>Company Affiliation:</strong><br/>\n",
       " \t\t\tAcademic Program Director - EMBA, Asian Institute of Management</p>\n",
       " </td>\n",
       " </tr>,\n",
       " <tr>\n",
       " <td style=\"width: 300px;\"> </td>\n",
       " <td style=\"width: 509px;\">\n",
       " <h5>Rogelio Sy Siong Kiao</h5>\n",
       " <h6> </h6>\n",
       " <p><strong>Education:</strong><br/>\n",
       " \t\t\tPhD Chemical Engineering, Purdue University</p>\n",
       " <p><strong>Teaching areas:</strong><br/>\n",
       " \t\t\tStatistics, Operations Management, Finance</p>\n",
       " </td>\n",
       " </tr>,\n",
       " <tr>\n",
       " <td style=\"width: 300px;\"><img alt=\"QMIT_Tan, EM\" class=\"align-center\" data-entity-type=\"file\" data-entity-uuid=\"c9177a9c-dc5a-4cb3-82a7-bfa8a6c24746\" height=\"150\" loading=\"lazy\" src=\"/sites/default/files/inline-images/FullSizeRender%20-%20Eldridge%20Myles%20Tan_1.jpg\" width=\"150\"/>\n",
       " <p> </p>\n",
       " </td>\n",
       " <td style=\"width: 509px;\">\n",
       " <h5>Eldridge Myles L. Tan</h5>\n",
       " <h6> </h6>\n",
       " <p><strong>Research interests:</strong><br/>\n",
       " \t\t\tUX Design, Artificial Intelligence</p>\n",
       " <p><strong>Teaching areas:</strong><br/>\n",
       " \t\t\tUX Design, Financial Management, Managerial Accounting</p>\n",
       " <p><strong>Company Affiliation:</strong><br/>\n",
       " \t\t\tCX Design Head, Globe Telecom, Inc. </p>\n",
       " </td>\n",
       " </tr>,\n",
       " <tr>\n",
       " <td style=\"width: 300px;\"><img alt=\"QMIT_Uy, RL\" class=\"align-center\" data-entity-type=\"file\" data-entity-uuid=\"f0d4eb3b-b505-4e87-8d56-1f76105cfffa\" height=\"100\" loading=\"lazy\" src=\"/sites/default/files/inline-images/Copy%20of%20IMG_0014%20-%20Rhyan%20L.%20Uy_1.jpg\" width=\"150\"/>\n",
       " <p> </p>\n",
       " </td>\n",
       " <td style=\"width: 509px;\">\n",
       " <h5>Rhyan L. Uy</h5>\n",
       " <h6> </h6>\n",
       " <p><strong>Education:</strong><br/>\n",
       " \t\t\tMBA, Stanford University; MA Economics, ADMU</p>\n",
       " <p><strong>Research interests:</strong><br/>\n",
       " \t\t\tGeneral Information</p>\n",
       " <p><strong>Teaching areas:</strong><br/>\n",
       " \t\t\tOperations Research</p>\n",
       " </td>\n",
       " </tr>]"
      ]
     },
     "execution_count": 81,
     "metadata": {},
     "output_type": "execute_result"
    }
   ],
   "source": [
    "tables = soup.find_all('table')\n",
    "for table in tables:\n",
    "    h5s = table.find_all('h5')\n",
    "    header_contents = [h5.text for h5 in h5s]\n",
    "    print(header_contents)\n",
    "    \n",
    "rows"
   ]
  },
  {
   "cell_type": "code",
   "execution_count": 75,
   "id": "f8d8cd58-7af2-4363-86e5-c5bdc28cd65e",
   "metadata": {
    "tags": []
   },
   "outputs": [],
   "source": [
    "res = requests.get('https://www.gutenberg.org/cache/epub/10/pg10.txt')"
   ]
  },
  {
   "cell_type": "code",
   "execution_count": null,
   "id": "6d497b1d-49ad-4950-8ba5-51ea2c1335b5",
   "metadata": {},
   "outputs": [],
   "source": []
  }
 ],
 "metadata": {
  "kernelspec": {
   "display_name": "Python 3 (ipykernel)",
   "language": "python",
   "name": "python3"
  },
  "language_info": {
   "codemirror_mode": {
    "name": "ipython",
    "version": 3
   },
   "file_extension": ".py",
   "mimetype": "text/x-python",
   "name": "python",
   "nbconvert_exporter": "python",
   "pygments_lexer": "ipython3",
   "version": "3.10.10"
  }
 },
 "nbformat": 4,
 "nbformat_minor": 5
}
